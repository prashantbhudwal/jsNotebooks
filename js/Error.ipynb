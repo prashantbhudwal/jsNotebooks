{
 "cells": [
  {
   "cell_type": "code",
   "execution_count": null,
   "metadata": {},
   "outputs": [
    {
     "name": "stdout",
     "output_type": "stream",
     "text": [
      "CustomError: This is a custom error\n",
      "    at <anonymous>:7:15 {\n",
      "  name: \"CustomError\"\n",
      "}\n"
     ]
    },
    {
     "ename": "CustomError",
     "evalue": "This is a custom error",
     "output_type": "error",
     "traceback": [
      "Stack trace:",
      "CustomError: This is a custom error",
      "    at <anonymous>:9:7"
     ]
    }
   ],
   "source": [
    "class CustomError extends Error {\n",
    "  constructor(message: string) {\n",
    "    super(message);\n",
    "    this.name = this.constructor.name;\n",
    "  }\n",
    "}\n",
    "\n",
    "const error = new CustomError('This is a custom error');\n",
    "\n",
    "console.log(error);\n",
    "\n",
    "throw new CustomError(\"This is a custom error\");"
   ]
  },
  {
   "cell_type": "code",
   "execution_count": 7,
   "metadata": {},
   "outputs": [
    {
     "ename": "CustomError",
     "evalue": "What is the error",
     "output_type": "error",
     "traceback": [
      "Stack trace:",
      "CustomError: What is the error",
      "    at <anonymous>:1:28"
     ]
    }
   ],
   "source": [
    "\n",
    "throw new CustomError(\"What is the error\")"
   ]
  },
  {
   "cell_type": "code",
   "execution_count": 8,
   "metadata": {},
   "outputs": [
    {
     "name": "stdout",
     "output_type": "stream",
     "text": [
      "Error\n",
      "    at <anonymous>:1:34\n"
     ]
    }
   ],
   "source": [
    "console.log(new Error())"
   ]
  },
  {
   "cell_type": "code",
   "execution_count": 9,
   "metadata": {},
   "outputs": [
    {
     "data": {
      "text/plain": [
       "[Function: Error] { stackTraceLimit: \u001b[33m10\u001b[39m }"
      ]
     },
     "execution_count": 9,
     "metadata": {},
     "output_type": "execute_result"
    }
   ],
   "source": [
    "Error"
   ]
  },
  {
   "cell_type": "code",
   "execution_count": 10,
   "metadata": {},
   "outputs": [
    {
     "data": {
      "text/plain": [
       "Error\n",
       "    at <anonymous>:1:22"
      ]
     },
     "execution_count": 10,
     "metadata": {},
     "output_type": "execute_result"
    }
   ],
   "source": [
    "Error()"
   ]
  },
  {
   "cell_type": "code",
   "execution_count": 11,
   "metadata": {},
   "outputs": [
    {
     "data": {
      "text/plain": [
       "Error\n",
       "    at <anonymous>:1:22"
      ]
     },
     "execution_count": 11,
     "metadata": {},
     "output_type": "execute_result"
    }
   ],
   "source": [
    "new Error()"
   ]
  },
  {
   "cell_type": "code",
   "execution_count": 15,
   "metadata": {},
   "outputs": [
    {
     "name": "stderr",
     "output_type": "stream",
     "text": [
      "Error: This is a long stack trace error\n",
      "    at level5 (<anonymous>:15:9)\n",
      "    at level4 (<anonymous>:12:3)\n",
      "    at level3 (<anonymous>:9:3)\n",
      "    at level2 (<anonymous>:6:3)\n",
      "    at level1 (<anonymous>:2:3)\n",
      "    at <anonymous>:18:3\n"
     ]
    }
   ],
   "source": [
    "function level1() {\n",
    "  level2();\n",
    "  throw new Error(\"At level 1\")\n",
    "  \n",
    "}\n",
    "\n",
    "function level2() {\n",
    "  level3();\n",
    "}\n",
    "\n",
    "function level3() {\n",
    "  level4();\n",
    "}\n",
    "\n",
    "function level4() {\n",
    "  level5();\n",
    "}\n",
    "\n",
    "function level5() {\n",
    "  throw new Error(\"This is a long stack trace error\");\n",
    "}\n",
    "\n",
    "try {\n",
    "  level1();\n",
    "} catch (err) {\n",
    "  console.error(err);\n",
    "}\n"
   ]
  },
  {
   "cell_type": "code",
   "execution_count": 16,
   "metadata": {},
   "outputs": [
    {
     "name": "stderr",
     "output_type": "stream",
     "text": [
      "Error: This is a long stack trace error\n",
      "    at level5 (<anonymous>:19:9)\n",
      "    at level4 (<anonymous>:16:3)\n",
      "    at level3 (<anonymous>:13:3)\n",
      "    at level2 (<anonymous>:10:3)\n",
      "    at level1 (<anonymous>:3:5)\n",
      "    at <anonymous>:22:3\n",
      "Error: At level 1\n",
      "    at level1 (<anonymous>:7:9)\n",
      "    at <anonymous>:22:3\n",
      "Error: At level 1\n",
      "    at level1 (<anonymous>:7:9)\n",
      "    at <anonymous>:22:3\n"
     ]
    }
   ],
   "source": [
    "function level1() {\n",
    "  try {\n",
    "    level2();\n",
    "  } catch (err) {\n",
    "    console.error(err);\n",
    "  }\n",
    "  throw new Error(\"At level 1\");\n",
    "}\n",
    "\n",
    "function level2() {\n",
    "  level3();\n",
    "}\n",
    "\n",
    "function level3() {\n",
    "  level4();\n",
    "}\n",
    "\n",
    "function level4() {\n",
    "  level5();\n",
    "}\n",
    "\n",
    "function level5() {\n",
    "  throw new Error(\"This is a long stack trace error\");\n",
    "}\n",
    "\n",
    "try {\n",
    "  level1();\n",
    "} catch (err) {\n",
    "  console.error(err);\n",
    "}\n"
   ]
  },
  {
   "cell_type": "code",
   "execution_count": null,
   "metadata": {},
   "outputs": [],
   "source": []
  }
 ],
 "metadata": {
  "kernelspec": {
   "display_name": "Deno",
   "language": "typescript",
   "name": "deno"
  },
  "language_info": {
   "codemirror_mode": "typescript",
   "file_extension": ".ts",
   "mimetype": "text/x.typescript",
   "name": "typescript",
   "nbconvert_exporter": "script",
   "pygments_lexer": "typescript",
   "version": "5.6.2"
  }
 },
 "nbformat": 4,
 "nbformat_minor": 2
}
