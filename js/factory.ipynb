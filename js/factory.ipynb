{
 "cells": [
  {
   "cell_type": "code",
   "execution_count": 4,
   "metadata": {},
   "outputs": [
    {
     "data": {
      "text/plain": [
       "Person { name: \u001b[32m\"Alice\"\u001b[39m, age: \u001b[33m30\u001b[39m }"
      ]
     },
     "execution_count": 4,
     "metadata": {},
     "output_type": "execute_result"
    }
   ],
   "source": [
    "abstract class Human {\n",
    "    public abstract readonly name: string;\n",
    "    public abstract readonly age: number;\n",
    "\n",
    "    public abstract greet(): string;\n",
    "\n",
    "    public abstract get birthYear(): number;\n",
    "}\n",
    "\n",
    "\n",
    "export class Person extends Human {\n",
    "    public readonly name: string;\n",
    "    public readonly age: number;\n",
    "\n",
    "    constructor(name: string, age: number) {\n",
    "        super();\n",
    "        this.name = name;\n",
    "        this.age = age;\n",
    "    }\n",
    "\n",
    "    public greet(): string {\n",
    "        return `Hello, my name is ${this.name}`;\n",
    "    }\n",
    "\n",
    "    public get birthYear(): number {\n",
    "        return new Date().getFullYear() - this.age;\n",
    "    }\n",
    "}\n",
    "\n",
    "const person = new Person(\"Alice\", 30);\n",
    "\n",
    "person;"
   ]
  },
  {
   "cell_type": "code",
   "execution_count": 5,
   "metadata": {},
   "outputs": [
    {
     "data": {
      "text/plain": [
       "\u001b[32m\"object\"\u001b[39m"
      ]
     },
     "execution_count": 5,
     "metadata": {},
     "output_type": "execute_result"
    }
   ],
   "source": [
    "typeof person\n"
   ]
  },
  {
   "cell_type": "code",
   "execution_count": null,
   "metadata": {},
   "outputs": [
    {
     "data": {
      "text/plain": [
       "Person { name: \u001b[32m\"Alice\"\u001b[39m, age: \u001b[33m30\u001b[39m }"
      ]
     },
     "execution_count": 3,
     "metadata": {},
     "output_type": "execute_result"
    }
   ],
   "source": []
  },
  {
   "cell_type": "code",
   "execution_count": null,
   "metadata": {},
   "outputs": [],
   "source": []
  }
 ],
 "metadata": {
  "kernelspec": {
   "display_name": "Deno",
   "language": "typescript",
   "name": "deno"
  },
  "language_info": {
   "codemirror_mode": "typescript",
   "file_extension": ".ts",
   "mimetype": "text/x.typescript",
   "name": "typescript",
   "nbconvert_exporter": "script",
   "pygments_lexer": "typescript",
   "version": "5.6.2"
  }
 },
 "nbformat": 4,
 "nbformat_minor": 2
}
